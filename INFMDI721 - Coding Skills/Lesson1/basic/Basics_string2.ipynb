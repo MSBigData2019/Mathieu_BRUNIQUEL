{
 "cells": [
  {
   "cell_type": "code",
   "execution_count": 2,
   "metadata": {},
   "outputs": [],
   "source": [
    "import string\n",
    "import math"
   ]
  },
  {
   "cell_type": "markdown",
   "metadata": {},
   "source": [
    "Question 1 : fonction verbing "
   ]
  },
  {
   "cell_type": "code",
   "execution_count": 10,
   "metadata": {},
   "outputs": [],
   "source": [
    "def verbing(s):\n",
    "    if len(s) >= 3 :\n",
    "        if s[-3 :] == \"ing\":\n",
    "            output = s + \"ly\"\n",
    "        else :\n",
    "            output = s + \"ing\"\n",
    "    else :\n",
    "        output = s\n",
    "    \n",
    "    return output"
   ]
  },
  {
   "cell_type": "code",
   "execution_count": 14,
   "metadata": {},
   "outputs": [
    {
     "data": {
      "text/plain": [
       "'ha'"
      ]
     },
     "execution_count": 14,
     "metadata": {},
     "output_type": "execute_result"
    }
   ],
   "source": [
    "verbing(\"ha\")\n"
   ]
  },
  {
   "cell_type": "markdown",
   "metadata": {},
   "source": [
    "Question 2 : fonction not bad"
   ]
  },
  {
   "cell_type": "code",
   "execution_count": 102,
   "metadata": {},
   "outputs": [],
   "source": [
    "def not_bad(s):\n",
    "    s_list = s.split(\" \")\n",
    "    \n",
    "    for i,word in enumerate(s_list) :\n",
    "        if word == \"not\" :\n",
    "            j = i\n",
    "        elif word == \"bad\" :\n",
    "            k = i\n",
    "    \n",
    "    if \"j\" in locals() and \"k\" in locals() :\n",
    "        if j < k:\n",
    "            output = \" \".join(s_list[:j]) + \" good \" + \" \".join(s_list[k+1 :])\n",
    "        else : \n",
    "            output = s\n",
    "    else :\n",
    "        output = s\n",
    "        \n",
    "    return output"
   ]
  },
  {
   "cell_type": "code",
   "execution_count": 101,
   "metadata": {},
   "outputs": [
    {
     "data": {
      "text/plain": [
       "'The meal is goodfor once'"
      ]
     },
     "execution_count": 101,
     "metadata": {},
     "output_type": "execute_result"
    }
   ],
   "source": [
    "not_bad(\"The meal is not amazingly and suprinsingly bad for once\")"
   ]
  },
  {
   "cell_type": "markdown",
   "metadata": {},
   "source": [
    "Question 3 : fonction front_back"
   ]
  },
  {
   "cell_type": "code",
   "execution_count": 73,
   "metadata": {},
   "outputs": [],
   "source": [
    "def front_back(a, b):\n",
    "    a_l = len(a)\n",
    "    b_l = len(b)\n",
    "    \n",
    "    if a_l % 2 == 0 :\n",
    "        a_front = a[:int(a_l/2)]\n",
    "        a_back = a[-int(a_l/2) :]\n",
    "    else :\n",
    "        a_front = a[:int((a_l+1)/2)]\n",
    "        a_back = a[int((a_l+1)/2) :]\n",
    "    \n",
    "    if b_l %2 == 0 :\n",
    "        b_front = b[:int(b_l/2)]\n",
    "        b_back = b[-int(b_l/2) :]\n",
    "    else :\n",
    "        b_front = b[: int((b_l+1)/2)]\n",
    "        b_back = b[int((b_l+1)/2) :]\n",
    "        \n",
    "    output = a_front + b_front + a_back + b_back\n",
    "    return output"
   ]
  },
  {
   "cell_type": "code",
   "execution_count": 74,
   "metadata": {},
   "outputs": [
    {
     "data": {
      "text/plain": [
       "'abcfgdehi'"
      ]
     },
     "execution_count": 74,
     "metadata": {},
     "output_type": "execute_result"
    }
   ],
   "source": [
    "front_back(\"abcde\",\"fghi\")"
   ]
  },
  {
   "cell_type": "markdown",
   "metadata": {},
   "source": [
    "Tests"
   ]
  },
  {
   "cell_type": "code",
   "execution_count": 75,
   "metadata": {},
   "outputs": [],
   "source": [
    "#Definition de la fonction test\n",
    "def test(got, expected):\n",
    "    if got == expected:\n",
    "        prefix = ' OK '\n",
    "    else:\n",
    "        prefix = '  X '\n",
    "    print (\"{p} got: {g} expected: {e}\".format(p=prefix, g=repr(got), e=repr(expected)))"
   ]
  },
  {
   "cell_type": "code",
   "execution_count": 76,
   "metadata": {},
   "outputs": [
    {
     "name": "stdout",
     "output_type": "stream",
     "text": [
      " OK  got: 'hailing' expected: 'hailing'\n",
      " OK  got: 'swimingly' expected: 'swimingly'\n",
      " OK  got: 'do' expected: 'do'\n"
     ]
    }
   ],
   "source": [
    "#Tests fonction verbing\n",
    "test(verbing('hail'), 'hailing')\n",
    "test(verbing('swiming'), 'swimingly')\n",
    "test(verbing('do'), 'do')"
   ]
  },
  {
   "cell_type": "code",
   "execution_count": 103,
   "metadata": {},
   "outputs": [
    {
     "name": "stdout",
     "output_type": "stream",
     "text": [
      " OK  got: 'This movie is good ' expected: 'This movie is good '\n",
      " OK  got: 'This dinner is good !' expected: 'This dinner is good !'\n",
      " OK  got: 'This tea is not hot' expected: 'This tea is not hot'\n",
      " OK  got: \"It's bad yet not\" expected: \"It's bad yet not\"\n"
     ]
    }
   ],
   "source": [
    "#TEsts fonction not_bad\n",
    "test(not_bad('This movie is not so bad'), 'This movie is good ')\n",
    "test(not_bad('This dinner is not that bad !'), 'This dinner is good !')\n",
    "test(not_bad('This tea is not hot'), 'This tea is not hot')\n",
    "test(not_bad(\"It's bad yet not\"), \"It's bad yet not\")"
   ]
  },
  {
   "cell_type": "code",
   "execution_count": 104,
   "metadata": {},
   "outputs": [
    {
     "name": "stdout",
     "output_type": "stream",
     "text": [
      " OK  got: 'abxcdy' expected: 'abxcdy'\n",
      " OK  got: 'abcxydez' expected: 'abcxydez'\n",
      " OK  got: 'KitDontenut' expected: 'KitDontenut'\n"
     ]
    }
   ],
   "source": [
    "#Test fonction front_back\n",
    "test(front_back('abcd', 'xy'), 'abxcdy')\n",
    "test(front_back('abcde', 'xyz'), 'abcxydez')\n",
    "test(front_back('Kitten', 'Donut'), 'KitDontenut')"
   ]
  },
  {
   "cell_type": "code",
   "execution_count": null,
   "metadata": {},
   "outputs": [],
   "source": []
  }
 ],
 "metadata": {
  "kernelspec": {
   "display_name": "Python 3",
   "language": "python",
   "name": "python3"
  },
  "language_info": {
   "codemirror_mode": {
    "name": "ipython",
    "version": 3
   },
   "file_extension": ".py",
   "mimetype": "text/x-python",
   "name": "python",
   "nbconvert_exporter": "python",
   "pygments_lexer": "ipython3",
   "version": "3.6.4"
  }
 },
 "nbformat": 4,
 "nbformat_minor": 2
}
