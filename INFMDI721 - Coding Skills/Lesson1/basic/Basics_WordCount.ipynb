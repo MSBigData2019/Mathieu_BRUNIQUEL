{
 "cells": [
  {
   "cell_type": "code",
   "execution_count": 1,
   "metadata": {},
   "outputs": [],
   "source": [
    "import math\n",
    "import string\n",
    "import sys"
   ]
  },
  {
   "cell_type": "code",
   "execution_count": 34,
   "metadata": {},
   "outputs": [],
   "source": [
    "def word_count(filename) :\n",
    "    words = filename.split(\" \")\n",
    "    count = {}\n",
    "    \n",
    "    for word in words :\n",
    "        word = word.lower()\n",
    "        if word not in count.keys() :\n",
    "            count[word] = 1\n",
    "        else :\n",
    "            count[word] = count[word] + 1\n",
    "       \n",
    "    return count"
   ]
  },
  {
   "cell_type": "code",
   "execution_count": 70,
   "metadata": {},
   "outputs": [
    {
     "data": {
      "text/plain": [
       "{';': 1,\n",
       " 'ainsi': 1,\n",
       " 'automatique': 1,\n",
       " \"d'exceptions\": 1,\n",
       " \"d'un\": 2,\n",
       " \"d'une\": 1,\n",
       " 'de': 3,\n",
       " 'doté': 1,\n",
       " 'dynamique': 1,\n",
       " 'est': 3,\n",
       " 'et': 4,\n",
       " 'favorise': 1,\n",
       " 'fonctionnelle': 1,\n",
       " 'fort,': 1,\n",
       " 'gestion': 2,\n",
       " 'il': 3,\n",
       " 'impérative': 1,\n",
       " 'interprété,': 1,\n",
       " 'la': 2,\n",
       " 'langage': 1,\n",
       " 'multi-paradigme': 1,\n",
       " 'multiplateformes.': 1,\n",
       " 'mémoire': 1,\n",
       " 'objet': 1,\n",
       " 'objet.': 1,\n",
       " 'orientée': 1,\n",
       " 'par': 1,\n",
       " 'perl,': 1,\n",
       " 'programmation': 2,\n",
       " 'python': 1,\n",
       " 'ramasse-miettes': 1,\n",
       " 'ruby,': 1,\n",
       " 'scheme,': 1,\n",
       " 'similaire': 1,\n",
       " 'smalltalk': 1,\n",
       " 'structurée,': 1,\n",
       " 'système': 1,\n",
       " 'tcl': 1,\n",
       " 'typage': 1,\n",
       " 'un': 1,\n",
       " 'à': 1}"
      ]
     },
     "execution_count": 70,
     "metadata": {},
     "output_type": "execute_result"
    }
   ],
   "source": [
    "word_count(\"Python est un langage de programmation objet interprété, multi-paradigme et multiplateformes. Il favorise la programmation impérative structurée, fonctionnelle et orientée objet. Il est doté d'un typage dynamique fort, d'une gestion automatique de la mémoire par ramasse-miettes et d'un système de gestion d'exceptions ; il est ainsi similaire à Perl, Ruby, Scheme, Smalltalk et Tcl\")"
   ]
  },
  {
   "cell_type": "code",
   "execution_count": 57,
   "metadata": {},
   "outputs": [],
   "source": [
    "def print_words(filename):\n",
    "    count = word_count(filename)\n",
    "    words = sorted(count.keys())\n",
    "    \n",
    "    for word in words :\n",
    "        print(word, count[word])\n",
    "        \n",
    "\n",
    "  #  sorted(count.items(), key=lambda s: s[0])"
   ]
  },
  {
   "cell_type": "code",
   "execution_count": 71,
   "metadata": {},
   "outputs": [
    {
     "name": "stdout",
     "output_type": "stream",
     "text": [
      "; 1\n",
      "ainsi 1\n",
      "automatique 1\n",
      "d'exceptions 1\n",
      "d'un 2\n",
      "d'une 1\n",
      "de 3\n",
      "doté 1\n",
      "dynamique 1\n",
      "est 3\n",
      "et 4\n",
      "favorise 1\n",
      "fonctionnelle 1\n",
      "fort, 1\n",
      "gestion 2\n",
      "il 3\n",
      "impérative 1\n",
      "interprété, 1\n",
      "la 2\n",
      "langage 1\n",
      "multi-paradigme 1\n",
      "multiplateformes. 1\n",
      "mémoire 1\n",
      "objet 1\n",
      "objet. 1\n",
      "orientée 1\n",
      "par 1\n",
      "perl, 1\n",
      "programmation 2\n",
      "python 1\n",
      "ramasse-miettes 1\n",
      "ruby, 1\n",
      "scheme, 1\n",
      "similaire 1\n",
      "smalltalk 1\n",
      "structurée, 1\n",
      "système 1\n",
      "tcl 1\n",
      "typage 1\n",
      "un 1\n",
      "à 1\n"
     ]
    }
   ],
   "source": [
    "print_words(\"Python est un langage de programmation objet interprété, multi-paradigme et multiplateformes. Il favorise la programmation impérative structurée, fonctionnelle et orientée objet. Il est doté d'un typage dynamique fort, d'une gestion automatique de la mémoire par ramasse-miettes et d'un système de gestion d'exceptions ; il est ainsi similaire à Perl, Ruby, Scheme, Smalltalk et Tcl\")"
   ]
  },
  {
   "cell_type": "code",
   "execution_count": 69,
   "metadata": {},
   "outputs": [],
   "source": [
    "def print_top(filename) :\n",
    "    items = sorted(word_count(filename).items(), key=lambda l: l[0])\n",
    "    \n",
    "    for item in items[:20] :\n",
    "        print(item[0],item[1])\n",
    "        "
   ]
  },
  {
   "cell_type": "code",
   "execution_count": 72,
   "metadata": {},
   "outputs": [
    {
     "name": "stdout",
     "output_type": "stream",
     "text": [
      "; 1\n",
      "ainsi 1\n",
      "automatique 1\n",
      "d'exceptions 1\n",
      "d'un 2\n",
      "d'une 1\n",
      "de 3\n",
      "doté 1\n",
      "dynamique 1\n",
      "est 3\n",
      "et 4\n",
      "favorise 1\n",
      "fonctionnelle 1\n",
      "fort, 1\n",
      "gestion 2\n",
      "il 3\n",
      "impérative 1\n",
      "interprété, 1\n",
      "la 2\n",
      "langage 1\n"
     ]
    }
   ],
   "source": [
    "print_top(\"Python est un langage de programmation objet interprété, multi-paradigme et multiplateformes. Il favorise la programmation impérative structurée, fonctionnelle et orientée objet. Il est doté d'un typage dynamique fort, d'une gestion automatique de la mémoire par ramasse-miettes et d'un système de gestion d'exceptions ; il est ainsi similaire à Perl, Ruby, Scheme, Smalltalk et Tcl\")"
   ]
  },
  {
   "cell_type": "code",
   "execution_count": null,
   "metadata": {},
   "outputs": [],
   "source": []
  }
 ],
 "metadata": {
  "kernelspec": {
   "display_name": "Python 3",
   "language": "python",
   "name": "python3"
  },
  "language_info": {
   "codemirror_mode": {
    "name": "ipython",
    "version": 3
   },
   "file_extension": ".py",
   "mimetype": "text/x-python",
   "name": "python",
   "nbconvert_exporter": "python",
   "pygments_lexer": "ipython3",
   "version": "3.6.4"
  }
 },
 "nbformat": 4,
 "nbformat_minor": 2
}
