{
 "cells": [
  {
   "cell_type": "code",
   "execution_count": 1,
   "metadata": {},
   "outputs": [],
   "source": [
    "import string"
   ]
  },
  {
   "cell_type": "markdown",
   "metadata": {},
   "source": [
    "Question 1 : Fonction match_ends"
   ]
  },
  {
   "cell_type": "code",
   "execution_count": 2,
   "metadata": {},
   "outputs": [],
   "source": [
    "def match_ends(words):\n",
    "    liste = []\n",
    "    liste = words.split(\" \")\n",
    "    count = 0\n",
    "\n",
    "    for i, word in enumerate(liste):\n",
    "        mot = list(word)\n",
    "        if len(mot) > 2 and mot[0] == mot[len(mot)-1] :\n",
    "            count += 1\n",
    "    return count"
   ]
  },
  {
   "cell_type": "code",
   "execution_count": 3,
   "metadata": {},
   "outputs": [
    {
     "data": {
      "text/plain": [
       "4"
      ]
     },
     "execution_count": 3,
     "metadata": {},
     "output_type": "execute_result"
    }
   ],
   "source": [
    "match_ends(\"baobab quantum vertical l anaconda fief rotor\")"
   ]
  },
  {
   "cell_type": "markdown",
   "metadata": {},
   "source": [
    "Question 2 : Fontion front_x "
   ]
  },
  {
   "cell_type": "code",
   "execution_count": 4,
   "metadata": {},
   "outputs": [],
   "source": [
    "def front_x(words):\n",
    "    liste_x = []\n",
    "    liste_r = []\n",
    "    liste_f = []\n",
    "    \n",
    "    for i,mots in enumerate(words):\n",
    "        mot = list(mots)\n",
    "        if mot[0] == \"x\":\n",
    "            liste_x.append(mots)\n",
    "        else :\n",
    "            liste_r.append(mots)\n",
    "    \n",
    "    liste_x.sort()\n",
    "    liste_r.sort()\n",
    "    \n",
    "    liste_f = liste_x + liste_r\n",
    "    return liste_f"
   ]
  },
  {
   "cell_type": "code",
   "execution_count": 5,
   "metadata": {},
   "outputs": [
    {
     "data": {
      "text/plain": [
       "['xanadu', 'xyz', 'aardvark', 'apple', 'mix']"
      ]
     },
     "execution_count": 5,
     "metadata": {},
     "output_type": "execute_result"
    }
   ],
   "source": [
    "front_x(['mix', 'xyz', 'apple', 'xanadu', 'aardvark'])"
   ]
  },
  {
   "cell_type": "markdown",
   "metadata": {},
   "source": [
    "Question 3 : Fonction sort_last"
   ]
  },
  {
   "cell_type": "code",
   "execution_count": 6,
   "metadata": {},
   "outputs": [],
   "source": [
    "def sort_last(liste):\n",
    "    \n",
    "    sorted_by_last = sorted(liste, key=lambda tup: tup[-1])\n",
    "\n",
    "    return sorted_by_last"
   ]
  },
  {
   "cell_type": "code",
   "execution_count": 7,
   "metadata": {},
   "outputs": [
    {
     "data": {
      "text/plain": [
       "[(2, 2), (1, 3), (3, 4, 5), (1, 7)]"
      ]
     },
     "execution_count": 7,
     "metadata": {},
     "output_type": "execute_result"
    }
   ],
   "source": [
    "sort_last([(1, 7), (1, 3), (3, 4, 5), (2, 2)])"
   ]
  },
  {
   "cell_type": "markdown",
   "metadata": {},
   "source": [
    "Tests"
   ]
  },
  {
   "cell_type": "code",
   "execution_count": 23,
   "metadata": {},
   "outputs": [],
   "source": [
    "#Definition de la fonction test\n",
    "def test(got, expected):\n",
    "    if got == expected:\n",
    "        prefix = ' OK '\n",
    "    else:\n",
    "        prefix = '  X '\n",
    "    print (\"{p} got: {g} expected: {e}\".format(p=prefix, g=repr(got), e=repr(expected)))"
   ]
  },
  {
   "cell_type": "code",
   "execution_count": 30,
   "metadata": {},
   "outputs": [
    {
     "name": "stdout",
     "output_type": "stream",
     "text": [
      "  X  got: 2 expected: 3\n",
      "  X  got: 1 expected: 2\n",
      " OK  got: 1 expected: 1\n"
     ]
    }
   ],
   "source": [
    "#Tests de match_ends\n",
    "test(match_ends(\"aba xyz aa x bbb\"), 3)\n",
    "test(match_ends(' x xy xyx xx'), 2)\n",
    "test(match_ends('aaa be abc hello'), 1)"
   ]
  },
  {
   "cell_type": "code",
   "execution_count": 32,
   "metadata": {},
   "outputs": [
    {
     "name": "stdout",
     "output_type": "stream",
     "text": [
      " OK  got: ['xaa', 'xzz', 'axx', 'bbb', 'ccc'] expected: ['xaa', 'xzz', 'axx', 'bbb', 'ccc']\n",
      " OK  got: ['xaa', 'xcc', 'aaa', 'bbb', 'ccc'] expected: ['xaa', 'xcc', 'aaa', 'bbb', 'ccc']\n",
      " OK  got: ['xanadu', 'xyz', 'aardvark', 'apple', 'mix'] expected: ['xanadu', 'xyz', 'aardvark', 'apple', 'mix']\n"
     ]
    }
   ],
   "source": [
    "#Tests de front_x\n",
    "test(front_x(['bbb', 'ccc', 'axx', 'xzz', 'xaa']),\n",
    "     ['xaa', 'xzz', 'axx', 'bbb', 'ccc'])\n",
    "test(front_x(['ccc', 'bbb', 'aaa', 'xcc', 'xaa']),\n",
    "     ['xaa', 'xcc', 'aaa', 'bbb', 'ccc'])\n",
    "test(front_x(['mix', 'xyz', 'apple', 'xanadu', 'aardvark']),\n",
    "     ['xanadu', 'xyz', 'aardvark', 'apple', 'mix'])"
   ]
  },
  {
   "cell_type": "code",
   "execution_count": 33,
   "metadata": {},
   "outputs": [
    {
     "name": "stdout",
     "output_type": "stream",
     "text": [
      " OK  got: [(2, 1), (3, 2), (1, 3)] expected: [(2, 1), (3, 2), (1, 3)]\n",
      " OK  got: [(3, 1), (1, 2), (2, 3)] expected: [(3, 1), (1, 2), (2, 3)]\n",
      " OK  got: [(2, 2), (1, 3), (3, 4, 5), (1, 7)] expected: [(2, 2), (1, 3), (3, 4, 5), (1, 7)]\n"
     ]
    }
   ],
   "source": [
    "#Tests de sort_last\n",
    "test(sort_last([(1, 3), (3, 2), (2, 1)]),\n",
    "     [(2, 1), (3, 2), (1, 3)])\n",
    "test(sort_last([(2, 3), (1, 2), (3, 1)]),\n",
    "    [(3, 1), (1, 2), (2, 3)])\n",
    "test(sort_last([(1, 7), (1, 3), (3, 4, 5), (2, 2)]),\n",
    "       [(2, 2), (1, 3), (3, 4, 5), (1, 7)])"
   ]
  },
  {
   "cell_type": "code",
   "execution_count": null,
   "metadata": {},
   "outputs": [],
   "source": []
  }
 ],
 "metadata": {
  "kernelspec": {
   "display_name": "Python 3",
   "language": "python",
   "name": "python3"
  },
  "language_info": {
   "codemirror_mode": {
    "name": "ipython",
    "version": 3
   },
   "file_extension": ".py",
   "mimetype": "text/x-python",
   "name": "python",
   "nbconvert_exporter": "python",
   "pygments_lexer": "ipython3",
   "version": "3.6.4"
  }
 },
 "nbformat": 4,
 "nbformat_minor": 2
}
