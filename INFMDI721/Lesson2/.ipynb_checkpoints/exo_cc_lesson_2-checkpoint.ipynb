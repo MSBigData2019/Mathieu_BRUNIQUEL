{
 "cells": [
  {
   "cell_type": "code",
   "execution_count": null,
   "metadata": {},
   "outputs": [],
   "source": [
    "def string_times(string, n):\n",
    "    if type(n) != int or n < 0 :\n",
    "        output = \"Entrée non valide\"\n",
    "    else :\n",
    "        i=0\n",
    "        output =\"\"\n",
    "        while i < n:\n",
    "            output = output + string\n",
    "            i += 1\n",
    "    return print(output)"
   ]
  },
  {
   "cell_type": "code",
   "execution_count": null,
   "metadata": {},
   "outputs": [],
   "source": [
    "string_times('Bonjour', 3)"
   ]
  },
  {
   "cell_type": "code",
   "execution_count": null,
   "metadata": {},
   "outputs": [],
   "source": [
    "def array_front9(nums):\n",
    "    l = len(nums)\n",
    "    status = False\n",
    "    if l < 4 :\n",
    "        i = 0\n",
    "        while i < len(nums):\n",
    "            if nums[i] == 9 :\n",
    "                status = True\n",
    "            i +=1\n",
    "    else : \n",
    "        for i,num in enumerate(nums[:4]):\n",
    "            if num == 9 :\n",
    "                status = True\n",
    "    \n",
    "        \n",
    "    return status"
   ]
  },
  {
   "cell_type": "code",
   "execution_count": null,
   "metadata": {},
   "outputs": [],
   "source": [
    "array_front9([1,3,2])"
   ]
  },
  {
   "cell_type": "code",
   "execution_count": 1,
   "metadata": {},
   "outputs": [],
   "source": [
    "def last2(string):\n",
    "    test = string[-2:]\n",
    "    count = 0\n",
    "    i = 0\n",
    "    \n",
    "    while i < len(string[:-2]) :\n",
    "        if string[i]+string[i+1] == test :\n",
    "            count += 1\n",
    "        i +=1\n",
    "    \n",
    "    return count"
   ]
  },
  {
   "cell_type": "code",
   "execution_count": 4,
   "metadata": {},
   "outputs": [
    {
     "data": {
      "text/plain": [
       "6"
      ]
     },
     "execution_count": 4,
     "metadata": {},
     "output_type": "execute_result"
    }
   ],
   "source": [
    "last2(\"hiwhihiihhiwhiwhihi\")"
   ]
  },
  {
   "cell_type": "code",
   "execution_count": null,
   "metadata": {},
   "outputs": [],
   "source": [
    "#Fonction fizbuzz\n",
    "def fizbuzz():\n",
    "    for i in range(1,101):\n",
    "        a = \"\"\n",
    "        b = \"\"\n",
    "        \n",
    "        if i%3 == 0 :\n",
    "            a = \"Fizz\"\n",
    "    \n",
    "        if i%5 == 0 :\n",
    "            b = \"Buzz\"\n",
    "    \n",
    "        if len(a) !=0 or len(b) != 0 :\n",
    "            i = a + b\n",
    "\n",
    "        print(i)"
   ]
  },
  {
   "cell_type": "code",
   "execution_count": null,
   "metadata": {},
   "outputs": [],
   "source": [
    "fizbuzz()"
   ]
  },
  {
   "cell_type": "code",
   "execution_count": null,
   "metadata": {},
   "outputs": [],
   "source": []
  },
  {
   "cell_type": "code",
   "execution_count": null,
   "metadata": {},
   "outputs": [],
   "source": []
  }
 ],
 "metadata": {
  "kernelspec": {
   "display_name": "Python 3",
   "language": "python",
   "name": "python3"
  },
  "language_info": {
   "codemirror_mode": {
    "name": "ipython",
    "version": 3
   },
   "file_extension": ".py",
   "mimetype": "text/x-python",
   "name": "python",
   "nbconvert_exporter": "python",
   "pygments_lexer": "ipython3",
   "version": "3.6.4"
  }
 },
 "nbformat": 4,
 "nbformat_minor": 2
}
