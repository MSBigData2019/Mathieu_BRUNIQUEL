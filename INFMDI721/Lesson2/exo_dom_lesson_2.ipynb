{
 "cells": [
  {
   "cell_type": "markdown",
   "metadata": {},
   "source": [
    "/// Définition du Crawler de REUTERS ///"
   ]
  },
  {
   "cell_type": "code",
   "execution_count": 18,
   "metadata": {},
   "outputs": [],
   "source": [
    "# Import des packages nécessaires au crawling d'un site html\n",
    "from bs4 import BeautifulSoup\n",
    "import requests"
   ]
  },
  {
   "cell_type": "code",
   "execution_count": 19,
   "metadata": {},
   "outputs": [],
   "source": [
    "# Definition du dictionnaire companies:prefix, des companies à crawler\n",
    "companies_dic = dict()\n",
    "companies_dic[\"Airbus\"] = \"AIR.PA\"\n",
    "companies_dic[\"Danone\"] = \"DANO.PA\"\n",
    "companies_dic[\"LVMH\"] = \"LVMH.MI\""
   ]
  },
  {
   "cell_type": "markdown",
   "metadata": {},
   "source": [
    "// Définitions des fonctions \"unitaires\" //"
   ]
  },
  {
   "cell_type": "code",
   "execution_count": 20,
   "metadata": {},
   "outputs": [],
   "source": [
    "# Definition de la fonction de crawling de la valeur de l'action\n",
    "def get_stockvalue(soup):\n",
    "    stock_value = float(\n",
    "        soup.find_all(\"div\", {\"class\": \"sectionQuoteDetail\"})[0]\n",
    "            .find_all(\"span\")[1]\n",
    "            .text.replace(\"\\t\", \"\").replace(\"\\n\", \"\"))\n",
    "\n",
    "    return stock_value"
   ]
  },
  {
   "cell_type": "code",
   "execution_count": 21,
   "metadata": {},
   "outputs": [],
   "source": [
    "# Definition de la fonction de crawling du taux de change de l'action\n",
    "def get_stockchange(soup):\n",
    "    stock_change = float(\n",
    "        soup.find_all(\"div\", {\"class\": \"sectionQuoteDetail\"})[1]\n",
    "            .find(\"span\", {\"class\": \"valueContentPercent\"})\n",
    "            .text\n",
    "            .replace(\"\\n\", \"\").replace(\"\\t\", \"\").replace(\"(\", \"\").replace(\")\", \"\").replace(\"%\", \"\"))\n",
    "\n",
    "    return stock_change"
   ]
  },
  {
   "cell_type": "code",
   "execution_count": 22,
   "metadata": {},
   "outputs": [],
   "source": [
    "# Definition de la fonction de crawling des ventes au Q4 2018\n",
    "def get_salesq42018(soup):\n",
    "    sales_q4 = float(\n",
    "        soup.find_all(\"table\")[0]\n",
    "            .find_all('tr', {\"class\": \"stripe\"})[0]\n",
    "            .find_all('td', {'class': 'data'})[1]\n",
    "            .text.replace(',', ''))\n",
    "\n",
    "    return sales_q4"
   ]
  },
  {
   "cell_type": "code",
   "execution_count": 23,
   "metadata": {},
   "outputs": [],
   "source": [
    "# Definition de la fonction de crawling du % de Shares owned\n",
    "def get_sharesowned(soup):\n",
    "    shares_owned = float(\n",
    "        soup.find(\"td\", text=\"% Shares Owned:\")\n",
    "            .parent()[2]\n",
    "            .text.replace(\"%\", \"\"))\n",
    "\n",
    "    return shares_owned"
   ]
  },
  {
   "cell_type": "code",
   "execution_count": 24,
   "metadata": {},
   "outputs": [],
   "source": [
    "# Definition de la fonction de crawling des dividend yield, pour l'entreprise, l'industrie et le secteur\n",
    "def get_dividendyield(soup):\n",
    "    dividend_yield = list()\n",
    "    dividend_yield.append(\n",
    "        float(\n",
    "            soup.find(\"td\", text=\"Dividend Yield\")\n",
    "                .parent()[1].text))\n",
    "\n",
    "    dividend_yield.append(\n",
    "        float(\n",
    "            soup.find(\"td\", text=\"Dividend Yield\")\n",
    "                .parent()[2].text))\n",
    "\n",
    "    dividend_yield.append(\n",
    "        float(\n",
    "            soup.find(\"td\", text=\"Dividend Yield\")\n",
    "                .parent()[3].text))\n",
    "\n",
    "    return dividend_yield"
   ]
  },
  {
   "cell_type": "code",
   "execution_count": 32,
   "metadata": {
    "scrolled": true
   },
   "outputs": [],
   "source": [
    "# Définition de la fonction principale qui lance le crawler pour la liste des entreprises demandées en argument\n",
    "def crawler(companies):\n",
    "    #Si une seule company est passée en argument : un crawler est lancé\n",
    "    if type(companies) == str:\n",
    "        print(\"***Informations financières de \" + companies + \"***\\n\")\n",
    "        crawl(companies)\n",
    "    \n",
    "    #Si plusieurs companies à crawler, lancement d'un crawler pour chaque company\n",
    "    elif type(companies) == list:\n",
    "        for company in companies:\n",
    "            print(\"***Informations financières de \" + company + \"***\\n\")\n",
    "            crawl(company)\n",
    "            print(\"\\n\\n\")\n",
    "    \n",
    "    # Si l'argument du crawler n'est ni une company, ni une liste de companies, on demande de resaisir l'input\n",
    "    else:\n",
    "        print(\"Veuillez renseigner le nom d'une entreprise ou une liste d'entreprises\")"
   ]
  },
  {
   "cell_type": "code",
   "execution_count": 33,
   "metadata": {},
   "outputs": [],
   "source": [
    "# Définition de la fonction de crawl d'un site\n",
    "def crawl(company):\n",
    "    # ici on lit le prefix financier associé à l'entreprise pour trouver le site sur REUTERS.COM\n",
    "    company_prefix = companies_dic[company] \n",
    "    \n",
    "    # Definition de l'URL et de l'objet site\n",
    "    url = 'https://www.reuters.com/finance/stocks/financial-highlights/' + company_prefix\n",
    "    site = requests.get(url).text\n",
    "    \n",
    "    # Construction de l'objet soup\n",
    "    soup = BeautifulSoup(site, 'html.parser')\n",
    "\n",
    "    # Récupération des outputs souhaités, chacun obtenu par une fonction spécifique\n",
    "    stock_value = get_stockvalue(soup) \n",
    "    stock_change = get_stockchange(soup) \n",
    "    sales_q4 = get_salesq42018(soup)\n",
    "    dividend_yield = get_dividendyield(soup)\n",
    "    shares_owned = get_sharesowned(soup)\n",
    "    \n",
    "    # Affichage des résultats du crawl\n",
    "    print(\n",
    "        \"Ventes - Q4 2018 : \" + str(sales_q4) + \"M€\" + \"\\n\" +\n",
    "        \"Cours de l'action : \" + str(stock_value) + \"€\" + \"\\n\" +\n",
    "        \"Taux de change de l'action : \" + str(stock_change) + \"%\" + \"\\n\" +\n",
    "        \"% Shares Owned : \" + str(shares_owned) + \"%\" + \"\\n\" +\n",
    "        \"Dividend yield de \" + str(company) + \" : \" + str(dividend_yield[0]) + \"\\n\" +\n",
    "        \"Dividend yield de l'industrie : \" + str(dividend_yield[1]) + \"\\n\" +\n",
    "        \"Dividend yield du secteur : \" + str(dividend_yield[2]))"
   ]
  },
  {
   "cell_type": "code",
   "execution_count": 34,
   "metadata": {},
   "outputs": [
    {
     "name": "stdout",
     "output_type": "stream",
     "text": [
      "***Informations financières de Airbus***\n",
      "\n",
      "Ventes - Q4 2018 : 23493.0M€\n",
      "Cours de l'action : 98.99€\n",
      "Taux de change de l'action : -3.42%\n",
      "% Shares Owned : 43.53%\n",
      "Dividend yield de Airbus : 1.45\n",
      "Dividend yield de l'industrie : 1.34\n",
      "Dividend yield du secteur : 1.64\n"
     ]
    }
   ],
   "source": [
    "crawler(\"Airbus\")"
   ]
  },
  {
   "cell_type": "code",
   "execution_count": null,
   "metadata": {},
   "outputs": [],
   "source": []
  }
 ],
 "metadata": {
  "kernelspec": {
   "display_name": "Python 3",
   "language": "python",
   "name": "python3"
  },
  "language_info": {
   "codemirror_mode": {
    "name": "ipython",
    "version": 3
   },
   "file_extension": ".py",
   "mimetype": "text/x-python",
   "name": "python",
   "nbconvert_exporter": "python",
   "pygments_lexer": "ipython3",
   "version": "3.6.4"
  }
 },
 "nbformat": 4,
 "nbformat_minor": 2
}
